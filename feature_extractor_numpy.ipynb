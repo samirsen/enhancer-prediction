{
 "cells": [
  {
   "cell_type": "code",
   "execution_count": 2,
   "metadata": {},
   "outputs": [],
   "source": [
    "import numpy as np\n",
    "import pandas as pd\n",
    "import random\n",
    "import sys, os\n",
    "import csv"
   ]
  },
  {
   "cell_type": "code",
   "execution_count": 54,
   "metadata": {},
   "outputs": [
    {
     "name": "stdout",
     "output_type": "stream",
     "text": [
      "                                          \n",
      "-------------------------------------------\n",
      "                                           \n",
      "('Processing file ', 0, ' : ', 'Dnase_processed_1.csv')\n",
      "                                          \n",
      "-------------------------------------------\n",
      "                                           \n",
      "('Processing file ', 1, ' : ', 'Dnase_processed_2.csv')\n",
      "                                          \n",
      "-------------------------------------------\n",
      "                                           \n",
      "('Processing file ', 2, ' : ', 'Dnase_processed_3.csv')\n",
      "                                          \n",
      "-------------------------------------------\n",
      "                                           \n",
      "('Processing file ', 3, ' : ', 'Dnase_processed_4.csv')\n",
      "                                          \n",
      "-------------------------------------------\n",
      "                                           \n",
      "('Processing file ', 4, ' : ', 'Dnase_processed_5.csv')\n",
      "                                          \n",
      "-------------------------------------------\n",
      "                                           \n",
      "('Processing file ', 5, ' : ', 'Dnase_processed_6.csv')\n",
      "                                          \n",
      "-------------------------------------------\n",
      "                                           \n",
      "('Processing file ', 6, ' : ', 'H3K27ac_1.csv')\n",
      "                                          \n",
      "-------------------------------------------\n",
      "                                           \n",
      "('Processing file ', 7, ' : ', 'h3k27ac_processed_1.csv')\n",
      "                                          \n",
      "-------------------------------------------\n",
      "                                           \n",
      "('Processing file ', 8, ' : ', 'h3k27ac_processed_2.csv')\n",
      "                                          \n",
      "-------------------------------------------\n",
      "                                           \n",
      "('Processing file ', 9, ' : ', 'h3k27ac_processed_3.csv')\n",
      "                                          \n",
      "-------------------------------------------\n",
      "                                           \n",
      "('Processing file ', 10, ' : ', 'h3k27ac_processed_4.csv')\n",
      "                                          \n",
      "-------------------------------------------\n",
      "                                           \n",
      "('Processing file ', 11, ' : ', 'h3k27ac_processed_5.csv')\n",
      "                                          \n",
      "-------------------------------------------\n",
      "                                           \n",
      "('Processing file ', 12, ' : ', 'p300_processed_1.csv')\n",
      "[['32.9424' '110.276' '22.7971' ..., '0.023341' '0.00124489' '0.045227']\n",
      " ['5.12937' '13.1517' '1.30025' ..., '0.0550052' '0.0953082' '0']\n",
      " ['31.723' '101.766' '34.0402' ..., '1.60181' '2.44417' '0.103914']\n",
      " ..., \n",
      " ['0.617649' '11.5741' '0.894578' ..., '0' '0' '0']\n",
      " ['0.0462893' '0.838396' '0.0660207' ..., '0' '0' '0']\n",
      " ['2.85749' '33.5969' '6.41611' ..., '0' '0' '0']]\n"
     ]
    }
   ],
   "source": [
    "DATA_DIR = \"./processed_data\"  \n",
    "\n",
    "def read_files2():\n",
    "    files = files = os.listdir(DATA_DIR)\n",
    "    features = [[None for _ in range(2203)] for __ in range(13)] \n",
    "    \n",
    "    for i, filename in enumerate(files):\n",
    "        csv_str = DATA_DIR + '/' + filename \n",
    "        \n",
    "        print(\"                                          \")\n",
    "        print(\"-------------------------------------------\")\n",
    "        print(\"                                           \")\n",
    "        print(\"Processing file \", i, \" : \", filename)\n",
    "        \n",
    "        with open(csv_str, 'rU') as csvfile:\n",
    "            feature = csv.reader(csvfile, delimiter=\",\")\n",
    "            features[i] = feature.next()\n",
    "        \n",
    "    return np.array(features) \n",
    "\n",
    "features = read_files2()\n",
    "features = features.transpose()\n",
    "print features\n",
    "\n",
    "np.save(\"features\", features)\n",
    "\n",
    "            "
   ]
  },
  {
   "cell_type": "code",
   "execution_count": null,
   "metadata": {
    "collapsed": true
   },
   "outputs": [],
   "source": []
  }
 ],
 "metadata": {
  "kernelspec": {
   "display_name": "Python 2",
   "language": "python",
   "name": "python2"
  },
  "language_info": {
   "codemirror_mode": {
    "name": "ipython",
    "version": 2
   },
   "file_extension": ".py",
   "mimetype": "text/x-python",
   "name": "python",
   "nbconvert_exporter": "python",
   "pygments_lexer": "ipython2",
   "version": "2.7.13"
  }
 },
 "nbformat": 4,
 "nbformat_minor": 2
}
